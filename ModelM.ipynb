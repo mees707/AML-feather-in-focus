{
 "cells": [
  {
   "cell_type": "code",
   "execution_count": 1,
   "metadata": {},
   "outputs": [
    {
     "name": "stdout",
     "output_type": "stream",
     "text": [
      "WARNING:tensorflow:From c:\\Users\\meesa\\anaconda3\\envs\\feather-in-focus\\Lib\\site-packages\\keras\\src\\losses.py:2976: The name tf.losses.sparse_softmax_cross_entropy is deprecated. Please use tf.compat.v1.losses.sparse_softmax_cross_entropy instead.\n",
      "\n"
     ]
    }
   ],
   "source": [
    "import numpy as np\n",
    "import pandas as pd\n",
    "\n",
    "#learning\n",
    "from sklearn.model_selection import train_test_split\n",
    "from tensorflow.keras.applications.xception import Xception\n",
    "from tensorflow.keras import layers, models\n",
    "from tensorflow.keras.utils import to_categorical\n",
    "\n",
    "#data augmentation\n",
    "from tensorflow.keras.preprocessing.image import ImageDataGenerator\n",
    "\n",
    "#preprocessing images\n",
    "import cv2"
   ]
  },
  {
   "cell_type": "markdown",
   "metadata": {},
   "source": [
    "## Preprocessing and loading in the data"
   ]
  },
  {
   "cell_type": "code",
   "execution_count": 2,
   "metadata": {},
   "outputs": [],
   "source": [
    "# the values per image that belong to the given attributes for each class\n",
    "attribute_values = np.load('feather-in-focus/attributes.npy')\n",
    "\n",
    "# names of each bird class\n",
    "labels = np.load(\"feather-in-focus/class_names.npy\", allow_pickle=True).item()\n",
    "\n",
    "# list of training data containing: image location, labels per image \n",
    "data = pd.read_csv(\"feather-in-focus/train_images.csv\")\n"
   ]
  },
  {
   "cell_type": "code",
   "execution_count": 3,
   "metadata": {},
   "outputs": [],
   "source": [
    "# code that adds the attributes per label to the training_df\n",
    "att_list = []\n",
    "for i in range(len(data)):\n",
    "    att_list.append(attribute_values[data['label'][i]-1])  \n",
    "    \n",
    "data['attributes'] = att_list"
   ]
  },
  {
   "cell_type": "code",
   "execution_count": 4,
   "metadata": {},
   "outputs": [],
   "source": [
    "def load_and_preprocess_images(image_paths, file_path):\n",
    "    images = []\n",
    "    for img_path in image_paths:\n",
    "        img = cv2.imread(f'feather-in-focus/{file_path}{img_path}' )\n",
    "        img = cv2.resize(img, (300, 300))  # Resize the image\n",
    "        img = img / 255.0  # Normalize pixel values to [0, 1]\n",
    "        images.append(img)\n",
    "    return np.array(images)"
   ]
  },
  {
   "cell_type": "code",
   "execution_count": 6,
   "metadata": {},
   "outputs": [],
   "source": [
    "# Load and preprocess images\n",
    "X_images = load_and_preprocess_images(data['image_path'], 'train_images')\n",
    "y_labels = to_categorical(data['label'].values-1)\n",
    "\n",
    "X_train, X_test, y_train, y_test = train_test_split(X_images, y_labels, test_size=0.2, random_state=0)"
   ]
  },
  {
   "cell_type": "markdown",
   "metadata": {},
   "source": [
    "## Using data augmentation to create more data"
   ]
  },
  {
   "cell_type": "code",
   "execution_count": 8,
   "metadata": {},
   "outputs": [],
   "source": [
    "# Create an ImageDataGenerator with augmentation parameters\n",
    "datagen = ImageDataGenerator(\n",
    "    rotation_range=20,\n",
    "    width_shift_range=0.2,\n",
    "    height_shift_range=0.2,\n",
    "    shear_range=0.2,\n",
    "    zoom_range=0.2,\n",
    "    horizontal_flip=True,\n",
    "    fill_mode='nearest'\n",
    ")\n",
    "\n",
    "# Apply data augmentation to your training data\n",
    "augmented_data = datagen.flow(np.array(X_train), y_train, batch_size=32)"
   ]
  },
  {
   "cell_type": "markdown",
   "metadata": {},
   "source": [
    "## Building the model\n"
   ]
  },
  {
   "cell_type": "code",
   "execution_count": 12,
   "metadata": {},
   "outputs": [
    {
     "name": "stdout",
     "output_type": "stream",
     "text": [
      "Epoch 1/10\n",
      "99/99 [==============================] - 154s 1s/step - loss: 4.8545 - accuracy: 0.0631 - val_loss: 4.0989 - val_accuracy: 0.1539\n",
      "Epoch 2/10\n",
      "99/99 [==============================] - 146s 1s/step - loss: 3.7225 - accuracy: 0.1780 - val_loss: 3.2153 - val_accuracy: 0.2837\n",
      "Epoch 3/10\n",
      "99/99 [==============================] - 147s 1s/step - loss: 3.0942 - accuracy: 0.2561 - val_loss: 2.7989 - val_accuracy: 0.3333\n",
      "Epoch 4/10\n",
      "99/99 [==============================] - 155s 2s/step - loss: 2.6894 - accuracy: 0.3274 - val_loss: 2.5033 - val_accuracy: 0.3957\n",
      "Epoch 5/10\n",
      "99/99 [==============================] - 147s 1s/step - loss: 2.3840 - accuracy: 0.3793 - val_loss: 2.2948 - val_accuracy: 0.4313\n",
      "Epoch 6/10\n",
      "99/99 [==============================] - 148s 1s/step - loss: 2.1379 - accuracy: 0.4274 - val_loss: 2.1553 - val_accuracy: 0.4326\n",
      "Epoch 7/10\n",
      "99/99 [==============================] - 142s 1s/step - loss: 1.9871 - accuracy: 0.4666 - val_loss: 2.1093 - val_accuracy: 0.4478\n",
      "Epoch 8/10\n",
      "99/99 [==============================] - 136s 1s/step - loss: 1.8027 - accuracy: 0.5140 - val_loss: 2.0137 - val_accuracy: 0.4746\n",
      "Epoch 9/10\n",
      "99/99 [==============================] - 139s 1s/step - loss: 1.7002 - accuracy: 0.5264 - val_loss: 1.9362 - val_accuracy: 0.4860\n",
      "Epoch 10/10\n",
      "99/99 [==============================] - 150s 2s/step - loss: 1.5454 - accuracy: 0.5682 - val_loss: 1.9021 - val_accuracy: 0.4746\n",
      "25/25 [==============================] - 33s 1s/step - loss: 1.9021 - accuracy: 0.4746\n",
      "Test accuracy: 0.47455471754074097\n"
     ]
    }
   ],
   "source": [
    "# Create Xception model with pre-trained weights\n",
    "base_model = Xception(weights='imagenet', include_top=False, input_shape=(300, 300, 3), classes=200)\n",
    "\n",
    "# Freeze the layers of the pre-trained model\n",
    "for layer in base_model.layers:\n",
    "    layer.trainable = False\n",
    "\n",
    "# Add custom top layers for classification\n",
    "model = models.Sequential()\n",
    "model.add(base_model)\n",
    "model.add(layers.GlobalAveragePooling2D())\n",
    "model.add(layers.Dense(256, activation='relu'))\n",
    "model.add(layers.Dropout(0.5))\n",
    "model.add(layers.Dense(y_train.shape[1], activation='softmax'))\n",
    "\n",
    "# Compile the model\n",
    "model.compile(optimizer='adam', loss='categorical_crossentropy', metrics=['accuracy'])\n",
    "\n",
    "# Train the model\n",
    "epochs = 10  # Adjust as needed\n",
    "model.fit(np.array(X_train), y_train, epochs=epochs, validation_data=(np.array(X_test), y_test))\n",
    "\n",
    "# Evaluate the model\n",
    "test_loss, test_acc = model.evaluate(np.array(X_test), y_test)\n",
    "print(f'Test accuracy: {test_acc}')"
   ]
  },
  {
   "cell_type": "code",
   "execution_count": 13,
   "metadata": {},
   "outputs": [
    {
     "name": "stdout",
     "output_type": "stream",
     "text": [
      "Epoch 1/5\n",
      "99/99 [==============================] - 197s 2s/step - loss: 2.1005 - accuracy: 0.4213 - val_loss: 2.4675 - val_accuracy: 0.4160\n",
      "Epoch 2/5\n",
      "99/99 [==============================] - 187s 2s/step - loss: 1.4045 - accuracy: 0.5914 - val_loss: 2.1255 - val_accuracy: 0.4504\n",
      "Epoch 3/5\n",
      "99/99 [==============================] - 192s 2s/step - loss: 1.0023 - accuracy: 0.6850 - val_loss: 2.0672 - val_accuracy: 0.5127\n",
      "Epoch 4/5\n",
      "99/99 [==============================] - 186s 2s/step - loss: 0.7635 - accuracy: 0.7624 - val_loss: 1.9173 - val_accuracy: 0.5344\n",
      "Epoch 5/5\n",
      "99/99 [==============================] - 188s 2s/step - loss: 0.5819 - accuracy: 0.8166 - val_loss: 2.1106 - val_accuracy: 0.5216\n"
     ]
    },
    {
     "data": {
      "text/plain": [
       "<keras.src.callbacks.History at 0x188f4574410>"
      ]
     },
     "execution_count": 13,
     "metadata": {},
     "output_type": "execute_result"
    }
   ],
   "source": [
    "# Unfreeze a few layers at a time\n",
    "for layer in base_model.layers[-20:]:\n",
    "    layer.trainable = True\n",
    "\n",
    "# Recompile the model after unfreezing layers\n",
    "model.compile(optimizer='adam', loss='categorical_crossentropy', metrics=['accuracy'])\n",
    "\n",
    "# Continue training\n",
    "model.fit(np.array(X_train), y_train, epochs=5, validation_data=(np.array(X_test), y_test))\n"
   ]
  },
  {
   "cell_type": "markdown",
   "metadata": {},
   "source": [
    "## predicting the submission images and saving them \n"
   ]
  },
  {
   "cell_type": "code",
   "execution_count": 14,
   "metadata": {},
   "outputs": [
    {
     "name": "stdout",
     "output_type": "stream",
     "text": [
      "125/125 [==============================] - 160s 1s/step\n"
     ]
    }
   ],
   "source": [
    "\n",
    "test_df = pd.read_csv(\"feather-in-focus/test_images_path.csv\")\n",
    "test_images = load_and_preprocess_images(test_df['image_path'],'test_images')\n",
    "\n",
    "# Predict\n",
    "predictions = model.predict(test_images)\n",
    "predicted_labels = np.argmax(predictions, axis=1)\n",
    "\n",
    "\n",
    "submission_df = pd.DataFrame({\n",
    "    'id': test_df['id'],\n",
    "    'label': predicted_labels+1\n",
    "})\n",
    "submission_df.to_csv('submission.csv', index=False)"
   ]
  }
 ],
 "metadata": {
  "kernelspec": {
   "display_name": "feather-in-focus",
   "language": "python",
   "name": "python3"
  },
  "language_info": {
   "codemirror_mode": {
    "name": "ipython",
    "version": 3
   },
   "file_extension": ".py",
   "mimetype": "text/x-python",
   "name": "python",
   "nbconvert_exporter": "python",
   "pygments_lexer": "ipython3",
   "version": "3.11.5"
  }
 },
 "nbformat": 4,
 "nbformat_minor": 2
}
