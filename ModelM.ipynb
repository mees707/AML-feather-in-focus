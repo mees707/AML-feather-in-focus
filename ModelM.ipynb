{
 "cells": [
  {
   "cell_type": "code",
   "execution_count": 25,
   "metadata": {},
   "outputs": [],
   "source": [
    "import numpy as np\n",
    "import pandas as pd\n",
    "import tensorflow as tf\n",
    "\n",
    "#learning\n",
    "from sklearn.model_selection import train_test_split\n",
    "from tensorflow.keras import layers, models\n",
    "from tensorflow.keras.utils import to_categorical\n",
    "\n",
    "# different models\n",
    "from tensorflow.keras.applications import efficientnet_v2\n",
    "\n",
    "\n",
    "\n",
    "\n",
    "#data augmentation\n",
    "from tensorflow.keras.preprocessing.image import ImageDataGenerator\n",
    "\n",
    "#preprocessing images\n",
    "import cv2"
   ]
  },
  {
   "cell_type": "markdown",
   "metadata": {},
   "source": [
    "## Preprocessing and loading in the data"
   ]
  },
  {
   "cell_type": "code",
   "execution_count": 26,
   "metadata": {},
   "outputs": [],
   "source": [
    "# the values per image that belong to the given attributes for each class\n",
    "attribute_values = np.load('feather-in-focus/attributes.npy')\n",
    "\n",
    "# names of each bird class\n",
    "labels = np.load(\"feather-in-focus/class_names.npy\", allow_pickle=True).item()\n",
    "\n",
    "# list of training data containing: image location, labels per image \n",
    "data = pd.read_csv(\"feather-in-focus/train_images.csv\")\n"
   ]
  },
  {
   "cell_type": "code",
   "execution_count": 27,
   "metadata": {},
   "outputs": [],
   "source": [
    "# code that adds the attributes per label to the training_df\n",
    "att_list = []\n",
    "for i in range(len(data)):\n",
    "    att_list.append(attribute_values[data['label'][i]-1])  \n",
    "    \n",
    "data['attributes'] = att_list"
   ]
  },
  {
   "cell_type": "code",
   "execution_count": 28,
   "metadata": {},
   "outputs": [],
   "source": [
    "def load_and_preprocess_images(image_paths, file_path):\n",
    "    images = []\n",
    "    for img_path in image_paths:\n",
    "        img = cv2.imread(f'feather-in-focus/{file_path}{img_path}')\n",
    "        img = cv2.resize(img, (300, 300))  # Resize the image\n",
    "\n",
    "        # Normalize pixel values using EfficientNetV2's preprocess_input\n",
    "        img = efficientnet_v2.preprocess_input(img)\n",
    "\n",
    "        images.append(img)\n",
    "    return np.array(images)"
   ]
  },
  {
   "cell_type": "code",
   "execution_count": 29,
   "metadata": {},
   "outputs": [],
   "source": [
    "# Load and preprocess images\n",
    "X_images = load_and_preprocess_images(data['image_path'], 'train_images')\n",
    "y_labels = to_categorical(data['label'].values-1)\n",
    "\n",
    "X_train, X_test, y_train, y_test = train_test_split(X_images, y_labels, test_size=0.2, random_state=0)"
   ]
  },
  {
   "cell_type": "markdown",
   "metadata": {},
   "source": [
    "## Using data augmentation to create more data"
   ]
  },
  {
   "cell_type": "code",
   "execution_count": 30,
   "metadata": {},
   "outputs": [],
   "source": [
    "# # Create an ImageDataGenerator with augmentation parameters, not used currently\n",
    "# datagen = ImageDataGenerator(\n",
    "#     rotation_range=20,\n",
    "#     width_shift_range=0.2,\n",
    "#     height_shift_range=0.2,\n",
    "#     shear_range=0.2,\n",
    "#     zoom_range=0.2,\n",
    "#     horizontal_flip=True,\n",
    "#     fill_mode='nearest'\n",
    "# )\n",
    "\n",
    "# # Apply data augmentation to your training data\n",
    "# augmented_data = datagen.flow(np.array(X_train), y_train, batch_size=32)"
   ]
  },
  {
   "cell_type": "markdown",
   "metadata": {},
   "source": [
    "## Building the model\n"
   ]
  },
  {
   "cell_type": "code",
   "execution_count": 31,
   "metadata": {},
   "outputs": [
    {
     "name": "stdout",
     "output_type": "stream",
     "text": [
      "Epoch 1/20\n",
      "99/99 [==============================] - 85s 784ms/step - loss: 4.6527 - accuracy: 0.0809 - val_loss: 3.6629 - val_accuracy: 0.2176\n",
      "Epoch 2/20\n",
      "99/99 [==============================] - 75s 763ms/step - loss: 3.3717 - accuracy: 0.2242 - val_loss: 2.8920 - val_accuracy: 0.3244\n",
      "Epoch 3/20\n",
      "99/99 [==============================] - 72s 732ms/step - loss: 2.7155 - accuracy: 0.3261 - val_loss: 2.4569 - val_accuracy: 0.4033\n",
      "Epoch 4/20\n",
      "99/99 [==============================] - 75s 757ms/step - loss: 2.3316 - accuracy: 0.3962 - val_loss: 2.2245 - val_accuracy: 0.4453\n",
      "Epoch 5/20\n",
      "99/99 [==============================] - 74s 751ms/step - loss: 2.0750 - accuracy: 0.4373 - val_loss: 2.0362 - val_accuracy: 0.4593\n",
      "Epoch 6/20\n",
      "99/99 [==============================] - 74s 750ms/step - loss: 1.8316 - accuracy: 0.4997 - val_loss: 1.9306 - val_accuracy: 0.4606\n",
      "Epoch 7/20\n",
      "99/99 [==============================] - 72s 730ms/step - loss: 1.7020 - accuracy: 0.5360 - val_loss: 1.8894 - val_accuracy: 0.4784\n",
      "Epoch 8/20\n",
      "99/99 [==============================] - 74s 749ms/step - loss: 1.5652 - accuracy: 0.5618 - val_loss: 1.7968 - val_accuracy: 0.4987\n",
      "Epoch 9/20\n",
      "99/99 [==============================] - 74s 747ms/step - loss: 1.4397 - accuracy: 0.5936 - val_loss: 1.7557 - val_accuracy: 0.5064\n",
      "Epoch 10/20\n",
      "99/99 [==============================] - 76s 773ms/step - loss: 1.3809 - accuracy: 0.6089 - val_loss: 1.7214 - val_accuracy: 0.5140\n",
      "Epoch 11/20\n",
      "99/99 [==============================] - 75s 757ms/step - loss: 1.2625 - accuracy: 0.6398 - val_loss: 1.6937 - val_accuracy: 0.5216\n",
      "Epoch 12/20\n",
      "99/99 [==============================] - 75s 762ms/step - loss: 1.1708 - accuracy: 0.6669 - val_loss: 1.6481 - val_accuracy: 0.5267\n",
      "Epoch 13/20\n",
      "99/99 [==============================] - 75s 763ms/step - loss: 1.0966 - accuracy: 0.6876 - val_loss: 1.6366 - val_accuracy: 0.5445\n",
      "Epoch 14/20\n",
      "99/99 [==============================] - 75s 759ms/step - loss: 1.0562 - accuracy: 0.6889 - val_loss: 1.6413 - val_accuracy: 0.5344\n",
      "Epoch 15/20\n",
      "99/99 [==============================] - 75s 758ms/step - loss: 0.9955 - accuracy: 0.6987 - val_loss: 1.6176 - val_accuracy: 0.5445\n",
      "Epoch 16/20\n",
      "99/99 [==============================] - 76s 774ms/step - loss: 0.9724 - accuracy: 0.7137 - val_loss: 1.6101 - val_accuracy: 0.5445\n",
      "Epoch 17/20\n",
      "99/99 [==============================] - 78s 792ms/step - loss: 0.8748 - accuracy: 0.7293 - val_loss: 1.6092 - val_accuracy: 0.5509\n",
      "Epoch 18/20\n",
      "99/99 [==============================] - 78s 794ms/step - loss: 0.8633 - accuracy: 0.7379 - val_loss: 1.6257 - val_accuracy: 0.5433\n",
      "Epoch 19/20\n",
      "99/99 [==============================] - 78s 790ms/step - loss: 0.8221 - accuracy: 0.7510 - val_loss: 1.5840 - val_accuracy: 0.5509\n",
      "Epoch 20/20\n",
      "99/99 [==============================] - 74s 751ms/step - loss: 0.7551 - accuracy: 0.7752 - val_loss: 1.5591 - val_accuracy: 0.5712\n",
      "25/25 [==============================] - 14s 566ms/step - loss: 1.5591 - accuracy: 0.5712\n",
      "Test accuracy: 0.5712468028068542\n"
     ]
    }
   ],
   "source": [
    "# Create Xception model with pre-trained weights\n",
    "base_model =  efficientnet_v2.EfficientNetV2B3(include_top=False, weights='imagenet', input_shape=(300, 300, 3), classes=200)\n",
    "# Freeze the layers of the pre-trained model\n",
    "for layer in base_model.layers:\n",
    "    layer.trainable = False\n",
    "\n",
    "# Add custom top layers for classification\n",
    "model = models.Sequential()\n",
    "model.add(base_model)\n",
    "model.add(layers.GlobalAveragePooling2D())\n",
    "model.add(layers.Dense(256, activation='relu'))\n",
    "model.add(layers.Dropout(0.5)) #0.5 works best\n",
    "model.add(layers.Dense(y_train.shape[1], activation='softmax'))\n",
    "\n",
    "# Compile the model\n",
    "model.compile(optimizer='adam', loss='categorical_crossentropy', metrics=['accuracy'])\n",
    "\n",
    "\n",
    "# allow model to quit when not seeing improvement\n",
    "early_stop = tf.keras.callbacks.EarlyStopping(\n",
    "    patience=3,\n",
    "    min_delta=0.001,\n",
    "    restore_best_weights=True,)\n",
    "\n",
    "\n",
    "# Train the model\n",
    "epochs = 20  \n",
    "model.fit(np.array(X_train), y_train, epochs=epochs, validation_data=(np.array(X_test), y_test), callbacks=[early_stop])\n",
    "# model.fit(augmented_data, epochs=epochs, validation_data=(np.array(X_test), y_test)) <- use this if you want to use the augmented data, didnt do much when used\n",
    "\n",
    "\n",
    "# Evaluate the model\n",
    "test_loss, test_acc = model.evaluate(np.array(X_test), y_test)\n",
    "print(f'Test accuracy: {test_acc}')"
   ]
  },
  {
   "cell_type": "code",
   "execution_count": 32,
   "metadata": {},
   "outputs": [
    {
     "name": "stdout",
     "output_type": "stream",
     "text": [
      "Epoch 1/5\n",
      "99/99 [==============================] - 89s 815ms/step - loss: 1.0437 - accuracy: 0.6869 - val_loss: 1.5878 - val_accuracy: 0.5611\n",
      "Epoch 2/5\n",
      "99/99 [==============================] - 78s 790ms/step - loss: 0.8542 - accuracy: 0.7490 - val_loss: 1.6162 - val_accuracy: 0.5471\n",
      "Epoch 3/5\n",
      "45/99 [============>.................] - ETA: 35s - loss: 0.6869 - accuracy: 0.7840"
     ]
    }
   ],
   "source": [
    "# Unfreeze a few layers at a time\n",
    "for layer in base_model.layers[-20:]:\n",
    "    layer.trainable = True\n",
    "\n",
    "# Recompile the model after unfreezing layers\n",
    "model.compile(optimizer='adam', loss='categorical_crossentropy', metrics=['accuracy'])\n",
    "\n",
    "# Continue training\n",
    "model.fit(np.array(X_train), y_train, epochs=5, validation_data=(np.array(X_test), y_test)) \n"
   ]
  },
  {
   "cell_type": "markdown",
   "metadata": {},
   "source": [
    "## predicting the submission images and saving them \n"
   ]
  },
  {
   "cell_type": "code",
   "execution_count": null,
   "metadata": {},
   "outputs": [
    {
     "name": "stdout",
     "output_type": "stream",
     "text": [
      "125/125 [==============================] - 29s 208ms/step\n"
     ]
    }
   ],
   "source": [
    "\n",
    "test_df = pd.read_csv(\"feather-in-focus/test_images_path.csv\")\n",
    "test_images = load_and_preprocess_images(test_df['image_path'],'test_images')\n",
    "\n",
    "# Predict\n",
    "predictions = model.predict(test_images)\n",
    "predicted_labels = np.argmax(predictions, axis=1)\n",
    "\n",
    "\n",
    "submission_df = pd.DataFrame({\n",
    "    'id': test_df['id'],\n",
    "    'label': predicted_labels+1\n",
    "})\n",
    "submission_df.to_csv('submission.csv', index=False)"
   ]
  }
 ],
 "metadata": {
  "kernelspec": {
   "display_name": "feather-in-focus",
   "language": "python",
   "name": "python3"
  },
  "language_info": {
   "codemirror_mode": {
    "name": "ipython",
    "version": 3
   },
   "file_extension": ".py",
   "mimetype": "text/x-python",
   "name": "python",
   "nbconvert_exporter": "python",
   "pygments_lexer": "ipython3",
   "version": "3.11.5"
  }
 },
 "nbformat": 4,
 "nbformat_minor": 2
}
