{
 "cells": [
  {
   "cell_type": "code",
   "execution_count": 10,
   "metadata": {},
   "outputs": [],
   "source": [
    "import numpy as np\n",
    "import pandas as pd\n",
    "import tensorflow as tf\n",
    "\n",
    "#learning\n",
    "from sklearn.model_selection import train_test_split\n",
    "from tensorflow.keras import layers, models\n",
    "from tensorflow.keras.utils import to_categorical\n",
    "\n",
    "# different models\n",
    "from tensorflow.keras.applications import efficientnet_v2\n",
    "\n",
    "# optimization\n",
    "from tensorflow_addons.optimizers import AdamW\n",
    "\n",
    "#data augmentation\n",
    "from tensorflow.keras.preprocessing.image import ImageDataGenerator\n",
    "\n",
    "#preprocessing images\n",
    "import cv2"
   ]
  },
  {
   "cell_type": "markdown",
   "metadata": {},
   "source": [
    "## Preprocessing and loading in the data"
   ]
  },
  {
   "cell_type": "code",
   "execution_count": 11,
   "metadata": {},
   "outputs": [],
   "source": [
    "# the values per image that belong to the given attributes for each class\n",
    "attribute_values = np.load('feather-in-focus/attributes.npy')\n",
    "\n",
    "# names of each bird class\n",
    "labels = np.load(\"feather-in-focus/class_names.npy\", allow_pickle=True).item()\n",
    "\n",
    "# list of training data containing: image location, labels per image \n",
    "data = pd.read_csv(\"feather-in-focus/train_images.csv\")\n"
   ]
  },
  {
   "cell_type": "code",
   "execution_count": 12,
   "metadata": {},
   "outputs": [],
   "source": [
    "# code that adds the attributes per label to the training_df\n",
    "att_list = []\n",
    "for i in range(len(data)):\n",
    "    att_list.append(attribute_values[data['label'][i]-1])  \n",
    "    \n",
    "data['attributes'] = att_list"
   ]
  },
  {
   "cell_type": "code",
   "execution_count": 13,
   "metadata": {},
   "outputs": [],
   "source": [
    "def load_and_preprocess_images(image_paths, file_path):\n",
    "    images = []\n",
    "    for img_path in image_paths:\n",
    "        img = cv2.imread(f'feather-in-focus/{file_path}{img_path}')\n",
    "        img = cv2.resize(img, (350, 350))  # Resize the image\n",
    "\n",
    "        # Normalize pixel values using EfficientNetV2's preprocess_input\n",
    "        img = efficientnet_v2.preprocess_input(img)\n",
    "\n",
    "        images.append(img)\n",
    "    return np.array(images)"
   ]
  },
  {
   "cell_type": "code",
   "execution_count": 14,
   "metadata": {},
   "outputs": [],
   "source": [
    "# Load and preprocess images\n",
    "X_images = load_and_preprocess_images(data['image_path'], 'train_images')\n",
    "y_labels = to_categorical(data['label'].values-1)\n",
    "\n",
    "X_train, X_test, y_train, y_test = train_test_split(X_images, y_labels, test_size=0.2, random_state=0)"
   ]
  },
  {
   "cell_type": "markdown",
   "metadata": {},
   "source": [
    "## Building the model\n"
   ]
  },
  {
   "cell_type": "code",
   "execution_count": 16,
   "metadata": {},
   "outputs": [
    {
     "name": "stdout",
     "output_type": "stream",
     "text": [
      "WARNING:tensorflow:From c:\\Users\\meesa\\anaconda3\\envs\\feather-in-focus\\Lib\\site-packages\\keras\\src\\optimizers\\__init__.py:309: The name tf.train.Optimizer is deprecated. Please use tf.compat.v1.train.Optimizer instead.\n",
      "\n",
      "Epoch 1/20\n",
      "99/99 [==============================] - 109s 1s/step - loss: 4.7073 - accuracy: 0.0844 - val_loss: 3.7641 - val_accuracy: 0.1768\n",
      "Epoch 2/20\n",
      "99/99 [==============================] - 100s 1s/step - loss: 3.4328 - accuracy: 0.2223 - val_loss: 2.9233 - val_accuracy: 0.3346\n",
      "Epoch 3/20\n",
      "99/99 [==============================] - 99s 1s/step - loss: 2.7811 - accuracy: 0.3232 - val_loss: 2.4534 - val_accuracy: 0.3804\n",
      "Epoch 4/20\n",
      "99/99 [==============================] - 105s 1s/step - loss: 2.3963 - accuracy: 0.3748 - val_loss: 2.2170 - val_accuracy: 0.4186\n",
      "Epoch 5/20\n",
      "99/99 [==============================] - 99s 999ms/step - loss: 2.0819 - accuracy: 0.4513 - val_loss: 2.0244 - val_accuracy: 0.4631\n",
      "Epoch 6/20\n",
      "99/99 [==============================] - 93s 938ms/step - loss: 1.8539 - accuracy: 0.4946 - val_loss: 1.9455 - val_accuracy: 0.4669\n",
      "Epoch 7/20\n",
      "99/99 [==============================] - 88s 891ms/step - loss: 1.7021 - accuracy: 0.5366 - val_loss: 1.8036 - val_accuracy: 0.5051\n",
      "Epoch 8/20\n",
      "99/99 [==============================] - 88s 886ms/step - loss: 1.5837 - accuracy: 0.5643 - val_loss: 1.7272 - val_accuracy: 0.5140\n",
      "Epoch 9/20\n",
      "99/99 [==============================] - 98s 995ms/step - loss: 1.4417 - accuracy: 0.5854 - val_loss: 1.6967 - val_accuracy: 0.5280\n",
      "Epoch 10/20\n",
      "99/99 [==============================] - 96s 976ms/step - loss: 1.3448 - accuracy: 0.6127 - val_loss: 1.6694 - val_accuracy: 0.5318\n",
      "Epoch 11/20\n",
      "99/99 [==============================] - 105s 1s/step - loss: 1.2404 - accuracy: 0.6385 - val_loss: 1.6368 - val_accuracy: 0.5229\n",
      "Epoch 12/20\n",
      "99/99 [==============================] - 104s 1s/step - loss: 1.1338 - accuracy: 0.6739 - val_loss: 1.5866 - val_accuracy: 0.5649\n",
      "Epoch 13/20\n",
      "99/99 [==============================] - 99s 1s/step - loss: 1.0996 - accuracy: 0.6783 - val_loss: 1.5758 - val_accuracy: 0.5471\n",
      "Epoch 14/20\n",
      "99/99 [==============================] - 104s 1s/step - loss: 1.0275 - accuracy: 0.6873 - val_loss: 1.5581 - val_accuracy: 0.5789\n",
      "Epoch 15/20\n",
      "99/99 [==============================] - 97s 982ms/step - loss: 0.9973 - accuracy: 0.7096 - val_loss: 1.5725 - val_accuracy: 0.5509\n",
      "Epoch 16/20\n",
      "99/99 [==============================] - 97s 984ms/step - loss: 0.9057 - accuracy: 0.7287 - val_loss: 1.5342 - val_accuracy: 0.5700\n",
      "Epoch 17/20\n",
      "99/99 [==============================] - 95s 957ms/step - loss: 0.8260 - accuracy: 0.7541 - val_loss: 1.5606 - val_accuracy: 0.5445\n",
      "Epoch 18/20\n",
      "99/99 [==============================] - 95s 963ms/step - loss: 0.8446 - accuracy: 0.7443 - val_loss: 1.5440 - val_accuracy: 0.5483\n",
      "Epoch 19/20\n",
      "99/99 [==============================] - 97s 979ms/step - loss: 0.8154 - accuracy: 0.7567 - val_loss: 1.5447 - val_accuracy: 0.5662\n",
      "25/25 [==============================] - 19s 751ms/step - loss: 1.5342 - accuracy: 0.5700\n",
      "Test accuracy: 0.5699745416641235\n"
     ]
    }
   ],
   "source": [
    "# Create Xception model with pre-trained weights\n",
    "base_model =  efficientnet_v2.EfficientNetV2B3(include_top=False, weights='imagenet', input_shape=(350, 350, 3), classes=200)\n",
    "# Freeze the layers of the pre-trained model\n",
    "for layer in base_model.layers:\n",
    "    layer.trainable = False\n",
    "\n",
    "# Add custom top layers for classification\n",
    "model = models.Sequential()\n",
    "model.add(base_model)\n",
    "model.add(layers.GlobalAveragePooling2D())\n",
    "model.add(layers.Dense(256, activation='relu'))\n",
    "model.add(layers.Dropout(0.5)) #0.5 works best\n",
    "model.add(layers.Dense(y_train.shape[1], activation='softmax'))\n",
    "\n",
    "\n",
    "model.compile(optimizer=\"adam\", loss='categorical_crossentropy', metrics=['accuracy'])\n",
    "\n",
    "\n",
    "# allow model to quit when not seeing improvement\n",
    "early_stop = tf.keras.callbacks.EarlyStopping(\n",
    "    patience=3,\n",
    "    min_delta=0.001,\n",
    "    restore_best_weights=True,)\n",
    "\n",
    "\n",
    "# Train the model\n",
    "epochs = 20  \n",
    "model.fit(np.array(X_train), y_train, epochs=epochs, validation_data=(np.array(X_test), y_test), callbacks=[early_stop])\n",
    "# model.fit(augmented_data, epochs=epochs, validation_data=(np.array(X_test), y_test)) <- use this if you want to use the augmented data, didnt do much when used\n",
    "\n",
    "\n",
    "# Evaluate the model\n",
    "test_loss, test_acc = model.evaluate(np.array(X_test), y_test)\n",
    "print(f'Test accuracy: {test_acc}')"
   ]
  },
  {
   "cell_type": "code",
   "execution_count": 17,
   "metadata": {},
   "outputs": [
    {
     "name": "stdout",
     "output_type": "stream",
     "text": [
      "Epoch 1/5\n",
      "99/99 [==============================] - 118s 1s/step - loss: 1.1408 - accuracy: 0.6682 - val_loss: 1.5896 - val_accuracy: 0.5509\n",
      "Epoch 2/5\n",
      "99/99 [==============================] - 105s 1s/step - loss: 0.9095 - accuracy: 0.7283 - val_loss: 1.5087 - val_accuracy: 0.5776\n",
      "Epoch 3/5\n",
      "99/99 [==============================] - 106s 1s/step - loss: 0.7837 - accuracy: 0.7637 - val_loss: 1.5342 - val_accuracy: 0.5878\n",
      "Epoch 4/5\n",
      "99/99 [==============================] - 102s 1s/step - loss: 0.7154 - accuracy: 0.7793 - val_loss: 1.5201 - val_accuracy: 0.5941\n",
      "Epoch 5/5\n",
      "99/99 [==============================] - 103s 1s/step - loss: 0.6438 - accuracy: 0.8083 - val_loss: 1.4687 - val_accuracy: 0.6018\n"
     ]
    },
    {
     "data": {
      "text/plain": [
       "<keras.src.callbacks.History at 0x13dac5cd310>"
      ]
     },
     "execution_count": 17,
     "metadata": {},
     "output_type": "execute_result"
    }
   ],
   "source": [
    "# Unfreeze a few layers at a time\n",
    "for layer in base_model.layers[-20:]:\n",
    "    layer.trainable = True\n",
    "\n",
    "# Recompile the model after unfreezing layers\n",
    "model.compile(optimizer=\"adam\", loss='categorical_crossentropy', metrics=['accuracy'])\n",
    "\n",
    "# Continue training\n",
    "model.fit(np.array(X_train), y_train, epochs=5, validation_data=(np.array(X_test), y_test)) \n"
   ]
  },
  {
   "cell_type": "markdown",
   "metadata": {},
   "source": [
    "## predicting the submission images and saving them \n"
   ]
  },
  {
   "cell_type": "code",
   "execution_count": 18,
   "metadata": {},
   "outputs": [
    {
     "name": "stdout",
     "output_type": "stream",
     "text": [
      "125/125 [==============================] - 96s 750ms/step\n"
     ]
    }
   ],
   "source": [
    "\n",
    "test_df = pd.read_csv(\"feather-in-focus/test_images_path.csv\")\n",
    "test_images = load_and_preprocess_images(test_df['image_path'],'test_images')\n",
    "\n",
    "# Predict\n",
    "predictions = model.predict(test_images)\n",
    "predicted_labels = np.argmax(predictions, axis=1)\n",
    "\n",
    "\n",
    "submission_df = pd.DataFrame({\n",
    "    'id': test_df['id'],\n",
    "    'label': predicted_labels+1\n",
    "})\n",
    "submission_df.to_csv('submission.csv', index=False)"
   ]
  }
 ],
 "metadata": {
  "kernelspec": {
   "display_name": "feather-in-focus",
   "language": "python",
   "name": "python3"
  },
  "language_info": {
   "codemirror_mode": {
    "name": "ipython",
    "version": 3
   },
   "file_extension": ".py",
   "mimetype": "text/x-python",
   "name": "python",
   "nbconvert_exporter": "python",
   "pygments_lexer": "ipython3",
   "version": "3.11.5"
  }
 },
 "nbformat": 4,
 "nbformat_minor": 2
}
